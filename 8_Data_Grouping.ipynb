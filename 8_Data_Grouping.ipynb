{
  "nbformat": 4,
  "nbformat_minor": 0,
  "metadata": {
    "colab": {
      "name": "8_Data Grouping.ipynb",
      "provenance": [],
      "authorship_tag": "ABX9TyNttXc8RhTmcnAnsT/MOhIV",
      "include_colab_link": true
    },
    "kernelspec": {
      "name": "python3",
      "display_name": "Python 3"
    },
    "language_info": {
      "name": "python"
    }
  },
  "cells": [
    {
      "cell_type": "markdown",
      "metadata": {
        "id": "view-in-github",
        "colab_type": "text"
      },
      "source": [
        "<a href=\"https://colab.research.google.com/github/rifyalt/basic_python/blob/main/8_Data_Grouping.ipynb\" target=\"_parent\"><img src=\"https://colab.research.google.com/assets/colab-badge.svg\" alt=\"Open In Colab\"/></a>"
      ]
    },
    {
      "cell_type": "markdown",
      "metadata": {
        "id": "DxEuEuaSeQAi"
      },
      "source": [
        "# Data Grouping\n",
        "\n",
        "Dalam kesempatan sekarang kita akan membahas teknik-teknik grouping pada data.\n",
        "\n",
        "Grouping adalah suatu teknik memisahkan data berdasarkan kriteria tertentu. untuk melakukan grouping di pandas kita menggunakan suatu method yang bernama groupby(). definisi abstraknya dari grouping adalah kita melakukan mapping suatu data terhadap suatu group."
      ]
    },
    {
      "cell_type": "markdown",
      "metadata": {
        "id": "mgupFR3DeYvO"
      },
      "source": [
        "Ketika melakukan grouping ada beberapa proses yang terjadi secara berurutan, yaitu :\n",
        "\n",
        "*   Splitting : Memisahkan data kedalam suatu group berdasarkan kriteria tertentu.\n",
        "*   Applying : Melakukan suatu operasi terhadap sekumpulan data di group-group tersebut.\n",
        "*   Combining : Menggabungkan data menjadi suatu struktur baru\n",
        "\n",
        "Langsung saja kita akan melihat bagaimana process split-apply-combine.Kita akan menggunakan data sederhana untuk tujuan pembelajaran."
      ]
    },
    {
      "cell_type": "code",
      "metadata": {
        "colab": {
          "base_uri": "https://localhost:8080/",
          "height": 202
        },
        "id": "_G0KSnIQd3G_",
        "outputId": "55d90ee0-ef96-463e-bc44-8c2d4f60aa36"
      },
      "source": [
        "import numpy as np\n",
        "import pandas as pd\n",
        "df = pd.DataFrame([('bird', 'Falconiformes', 389.0),\n",
        "                           ('bird', 'Psittaciformes', 24.0),\n",
        "                           ('mammal', 'Carnivora', 80.2),\n",
        "                           ('mammal', 'Primates', np.nan),\n",
        "                           ('mammal', 'Carnivora', 58)],\n",
        "                          index=['falcon', 'parrot', 'lion', 'monkey', 'leopard'],\n",
        "                             columns=('class', 'order', 'max_speed'))\n",
        "\n",
        "df"
      ],
      "execution_count": null,
      "outputs": [
        {
          "output_type": "execute_result",
          "data": {
            "text/html": [
              "<div>\n",
              "<style scoped>\n",
              "    .dataframe tbody tr th:only-of-type {\n",
              "        vertical-align: middle;\n",
              "    }\n",
              "\n",
              "    .dataframe tbody tr th {\n",
              "        vertical-align: top;\n",
              "    }\n",
              "\n",
              "    .dataframe thead th {\n",
              "        text-align: right;\n",
              "    }\n",
              "</style>\n",
              "<table border=\"1\" class=\"dataframe\">\n",
              "  <thead>\n",
              "    <tr style=\"text-align: right;\">\n",
              "      <th></th>\n",
              "      <th>class</th>\n",
              "      <th>order</th>\n",
              "      <th>max_speed</th>\n",
              "    </tr>\n",
              "  </thead>\n",
              "  <tbody>\n",
              "    <tr>\n",
              "      <th>falcon</th>\n",
              "      <td>bird</td>\n",
              "      <td>Falconiformes</td>\n",
              "      <td>389.0</td>\n",
              "    </tr>\n",
              "    <tr>\n",
              "      <th>parrot</th>\n",
              "      <td>bird</td>\n",
              "      <td>Psittaciformes</td>\n",
              "      <td>24.0</td>\n",
              "    </tr>\n",
              "    <tr>\n",
              "      <th>lion</th>\n",
              "      <td>mammal</td>\n",
              "      <td>Carnivora</td>\n",
              "      <td>80.2</td>\n",
              "    </tr>\n",
              "    <tr>\n",
              "      <th>monkey</th>\n",
              "      <td>mammal</td>\n",
              "      <td>Primates</td>\n",
              "      <td>NaN</td>\n",
              "    </tr>\n",
              "    <tr>\n",
              "      <th>leopard</th>\n",
              "      <td>mammal</td>\n",
              "      <td>Carnivora</td>\n",
              "      <td>58.0</td>\n",
              "    </tr>\n",
              "  </tbody>\n",
              "</table>\n",
              "</div>"
            ],
            "text/plain": [
              "          class           order  max_speed\n",
              "falcon     bird   Falconiformes      389.0\n",
              "parrot     bird  Psittaciformes       24.0\n",
              "lion     mammal       Carnivora       80.2\n",
              "monkey   mammal        Primates        NaN\n",
              "leopard  mammal       Carnivora       58.0"
            ]
          },
          "metadata": {},
          "execution_count": 1
        }
      ]
    },
    {
      "cell_type": "code",
      "metadata": {
        "colab": {
          "base_uri": "https://localhost:8080/"
        },
        "id": "5IQL1ozTeQuO",
        "outputId": "dd172d06-077a-412e-b2b9-63888cc53035"
      },
      "source": [
        "# Mari kita praktikan method groupby terhadap data tersebut. misalkan kita group data tersebut berdasarkan class.\n",
        "\n",
        "df.groupby('class')"
      ],
      "execution_count": null,
      "outputs": [
        {
          "output_type": "execute_result",
          "data": {
            "text/plain": [
              "<pandas.core.groupby.generic.DataFrameGroupBy object at 0x7f665bae9e10>"
            ]
          },
          "metadata": {},
          "execution_count": 2
        }
      ]
    },
    {
      "cell_type": "markdown",
      "metadata": {
        "id": "pnBfd-jxe07h"
      },
      "source": [
        "Coba kalian perhatikan, pada tahap ini kita baru sampai pada process splitting berdasarkan kategori ‘class’. hasil dari groupby ini hanya sebuah objek GroupBy. objek groupby ini adalah representasi dari suatu hasil penggabungan data berdasarkan group class, namun tidak menghasilkan nilai apapun sebelum kita memberikan suatu operasi terhadap hasil dari setiap grouping tersebut.\n",
        "\n",
        "Prosess melakukan operasi terhadap sekumpulan data yang telah di groupkan adalah process applying. kita bisa menggunakan berbagai jenis operasi aggregasi terhadap objek groupby tersebut. ada operasi yang telah di sediakan sebagai operasi bawaan dari pandas seperti mean(), min(), max(), dan lain sebagainya. dapat pula menggunakan custom operasi tergantung apa yang kita inginkan. mari kita coba praktekan salah satu jenis operasi kepada objek groupby tersebut."
      ]
    },
    {
      "cell_type": "code",
      "metadata": {
        "colab": {
          "base_uri": "https://localhost:8080/",
          "height": 141
        },
        "id": "fz2UDQx8eyQu",
        "outputId": "4fbbab0a-667a-4244-8516-c7bd7b1cadc1"
      },
      "source": [
        "df.groupby('class').mean()"
      ],
      "execution_count": null,
      "outputs": [
        {
          "output_type": "execute_result",
          "data": {
            "text/html": [
              "<div>\n",
              "<style scoped>\n",
              "    .dataframe tbody tr th:only-of-type {\n",
              "        vertical-align: middle;\n",
              "    }\n",
              "\n",
              "    .dataframe tbody tr th {\n",
              "        vertical-align: top;\n",
              "    }\n",
              "\n",
              "    .dataframe thead th {\n",
              "        text-align: right;\n",
              "    }\n",
              "</style>\n",
              "<table border=\"1\" class=\"dataframe\">\n",
              "  <thead>\n",
              "    <tr style=\"text-align: right;\">\n",
              "      <th></th>\n",
              "      <th>max_speed</th>\n",
              "    </tr>\n",
              "    <tr>\n",
              "      <th>class</th>\n",
              "      <th></th>\n",
              "    </tr>\n",
              "  </thead>\n",
              "  <tbody>\n",
              "    <tr>\n",
              "      <th>bird</th>\n",
              "      <td>206.5</td>\n",
              "    </tr>\n",
              "    <tr>\n",
              "      <th>mammal</th>\n",
              "      <td>69.1</td>\n",
              "    </tr>\n",
              "  </tbody>\n",
              "</table>\n",
              "</div>"
            ],
            "text/plain": [
              "        max_speed\n",
              "class            \n",
              "bird        206.5\n",
              "mammal       69.1"
            ]
          },
          "metadata": {},
          "execution_count": 3
        }
      ]
    },
    {
      "cell_type": "markdown",
      "metadata": {
        "id": "Hso5pWIdfTTP"
      },
      "source": [
        "Coba kalian perhatikan. kita telah berhasil menggunakan groupby dan memberikan hasil. jenis operasi yang di apply terhadap setiap group adalah rata-rata. dan hasilnya di combine menjadi struktur data baru. dengan begini kita menhasilkan suatu hasil analisis sederhana yaitu bahwa binatang dengan class bird memiliki kecepatan maksimal rata-rata sebesar 206.5 dan binatang class mamalia sebesar 69.1.\n",
        "\n",
        "Kita juga dapat mengambil lebih banyak data dengan cara:"
      ]
    },
    {
      "cell_type": "code",
      "metadata": {
        "colab": {
          "base_uri": "https://localhost:8080/",
          "height": 232
        },
        "id": "Hw6mieBcfRwt",
        "outputId": "95416e0d-8298-4166-bab1-429cc76e9845"
      },
      "source": [
        "df.groupby(['class', 'order'])[['max_speed']].agg(['mean', 'sum'])"
      ],
      "execution_count": null,
      "outputs": [
        {
          "output_type": "execute_result",
          "data": {
            "text/html": [
              "<div>\n",
              "<style scoped>\n",
              "    .dataframe tbody tr th:only-of-type {\n",
              "        vertical-align: middle;\n",
              "    }\n",
              "\n",
              "    .dataframe tbody tr th {\n",
              "        vertical-align: top;\n",
              "    }\n",
              "\n",
              "    .dataframe thead tr th {\n",
              "        text-align: left;\n",
              "    }\n",
              "\n",
              "    .dataframe thead tr:last-of-type th {\n",
              "        text-align: right;\n",
              "    }\n",
              "</style>\n",
              "<table border=\"1\" class=\"dataframe\">\n",
              "  <thead>\n",
              "    <tr>\n",
              "      <th></th>\n",
              "      <th></th>\n",
              "      <th colspan=\"2\" halign=\"left\">max_speed</th>\n",
              "    </tr>\n",
              "    <tr>\n",
              "      <th></th>\n",
              "      <th></th>\n",
              "      <th>mean</th>\n",
              "      <th>sum</th>\n",
              "    </tr>\n",
              "    <tr>\n",
              "      <th>class</th>\n",
              "      <th>order</th>\n",
              "      <th></th>\n",
              "      <th></th>\n",
              "    </tr>\n",
              "  </thead>\n",
              "  <tbody>\n",
              "    <tr>\n",
              "      <th rowspan=\"2\" valign=\"top\">bird</th>\n",
              "      <th>Falconiformes</th>\n",
              "      <td>389.0</td>\n",
              "      <td>389.0</td>\n",
              "    </tr>\n",
              "    <tr>\n",
              "      <th>Psittaciformes</th>\n",
              "      <td>24.0</td>\n",
              "      <td>24.0</td>\n",
              "    </tr>\n",
              "    <tr>\n",
              "      <th rowspan=\"2\" valign=\"top\">mammal</th>\n",
              "      <th>Carnivora</th>\n",
              "      <td>69.1</td>\n",
              "      <td>138.2</td>\n",
              "    </tr>\n",
              "    <tr>\n",
              "      <th>Primates</th>\n",
              "      <td>NaN</td>\n",
              "      <td>0.0</td>\n",
              "    </tr>\n",
              "  </tbody>\n",
              "</table>\n",
              "</div>"
            ],
            "text/plain": [
              "                      max_speed       \n",
              "                           mean    sum\n",
              "class  order                          \n",
              "bird   Falconiformes      389.0  389.0\n",
              "       Psittaciformes      24.0   24.0\n",
              "mammal Carnivora           69.1  138.2\n",
              "       Primates             NaN    0.0"
            ]
          },
          "metadata": {},
          "execution_count": 4
        }
      ]
    },
    {
      "cell_type": "markdown",
      "metadata": {
        "id": "svVWso8ifZR-"
      },
      "source": [
        "Beberapa Pengolahan Data yang Dapat Dilakukan, Silahkan kalian tonton video berikut:\n",
        "\n",
        "*   [Pandas Group by](https://youtu.be/mSsLhrqv-aA)\n",
        "\n"
      ]
    }
  ]
}