{
  "nbformat": 4,
  "nbformat_minor": 0,
  "metadata": {
    "colab": {
      "name": "4_Functions & Method.ipynb",
      "provenance": [],
      "toc_visible": true,
      "authorship_tag": "ABX9TyO4LB9q1RB9W+rVln/IWNHd",
      "include_colab_link": true
    },
    "kernelspec": {
      "name": "python3",
      "display_name": "Python 3"
    },
    "language_info": {
      "name": "python"
    }
  },
  "cells": [
    {
      "cell_type": "markdown",
      "metadata": {
        "id": "view-in-github",
        "colab_type": "text"
      },
      "source": [
        "<a href=\"https://colab.research.google.com/github/rifyalt/basic_python/blob/main/4_Functions_%26_Method.ipynb\" target=\"_parent\"><img src=\"https://colab.research.google.com/assets/colab-badge.svg\" alt=\"Open In Colab\"/></a>"
      ]
    },
    {
      "cell_type": "markdown",
      "metadata": {
        "id": "FxhdcKWtCmY3"
      },
      "source": [
        "# Functions & Method\n",
        "\n",
        "Sebelumnya kita telah melihat dan menggunakan fungsi-fungsi seperti print, int, float dan sebagainya. Python memiliki lebih banyak fungsi, dan membuat fungsi kita sendiri adalah bagian besar dari perjalanan kita belajar pemrograman python.\n",
        "\n",
        "Dalam bagian ini kita akan belajar lebih banyak tentang menggunakan dan mendefinisikan fungsi."
      ]
    },
    {
      "cell_type": "markdown",
      "metadata": {
        "id": "U0T9gK_PCtX2"
      },
      "source": [
        "# Getting Help\n",
        "Jika kita ingin menghitung jumlah item suatu objek, kita bisa menggunakan fungsi ‘len’. Tetapi bagaimana jika kita lupa kegunaan fungsi tersebut? Maka kita bisa gunakan fungsi help.\n",
        "\n",
        "Fungsi help () merupakan salah satu fungsi yang sangat penting untuk kita pelajari. Jika kita dapat mengingat cara menggunakan help(), kita memegang kunci untuk memahami sebagian besar fungsi lainnya. Karena fungsi help() adalah suatu fungsi untuk memahami fungsi semua fungsi.\n",
        "\n",
        "Berikut ini sebuah contoh:"
      ]
    },
    {
      "cell_type": "code",
      "metadata": {
        "id": "zXDa0OJ42Aff"
      },
      "source": [
        "# >>>print(help(len))\n",
        "# Help on built-in function len in module builtins:\n",
        "\n",
        "# len(obj, /)\n",
        "#    Return the number of items in a container."
      ],
      "execution_count": null,
      "outputs": []
    },
    {
      "cell_type": "markdown",
      "metadata": {
        "id": "JdtWq81uDIJ2"
      },
      "source": [
        "help () menampilkan dua hal:\n",
        "\n",
        "1.   header : header adalah bagian pertama dari output help, dari contoh diatas yaitu bagian len(obj, /). Baris ini memberitahu kita bahwa fungsi len ini menerima argument sebuah object.\n",
        "2.   Deskripsi singkat tentang apa fungsinya.\n",
        "\n"
      ]
    },
    {
      "cell_type": "markdown",
      "metadata": {
        "id": "mw1Li2IxEkLJ"
      },
      "source": [
        "## Mendefinisikan fungsi \n",
        "\n",
        "Python memiliki banyak sekali fungsi bawaan yang sangat membantu kita. Namun kita juga bisa membuat fungsi kita sendiri untuk melangkah lebih jauh dalam membuat suatu aplikasi. Berikut adalah contoh membuat fungsi di Python :"
      ]
    },
    {
      "cell_type": "code",
      "metadata": {
        "id": "VWpmgvC1DYTY"
      },
      "source": [
        "def least_difference(a, b, c):\n",
        "    diff1 = abs(a - b)\n",
        "    diff2 = abs(b - c)\n",
        "    diff3 = abs(a - c)\n",
        "    return min(diff1, diff2, diff3)"
      ],
      "execution_count": null,
      "outputs": []
    },
    {
      "cell_type": "markdown",
      "metadata": {
        "id": "LWoXd_LpEu1H"
      },
      "source": [
        "Dari contoh di atas, kita membuat fungsi yang bernama least_difference, dimana fungsi ini memiliki tiga argument, yaitu a, b, c\n",
        "\n",
        "Fungsi dimulai dengan kata kunci ‘def’. Blok kode yang menjorok setelah tanda ‘:’ dijalankan ketika fungsi dipanggil.\n",
        "\n",
        "‘return’ adalah kata kunci lain juga yang berkaitan dengan fungsi. Kata kunci ‘return’ adalah untuk menentukan apa yang akan di hasilkan dari fungsi tersebut."
      ]
    },
    {
      "cell_type": "markdown",
      "metadata": {
        "id": "AvrULZ9CFKzH"
      },
      "source": [
        "## Parameter or Arguments"
      ]
    },
    {
      "cell_type": "markdown",
      "metadata": {
        "id": "_o0H79JfG3d_"
      },
      "source": [
        "### Default Parameter"
      ]
    },
    {
      "cell_type": "code",
      "metadata": {
        "id": "4Al5XSTAEqsO"
      },
      "source": [
        "# Perhatikan fungsi berikut :\n",
        "\n",
        "def greet():\n",
        "    print('Hello, Colion')\n",
        "\n",
        "def greet(who=\"Colin\"):\n",
        "    print(\"Hello,\", who)"
      ],
      "execution_count": null,
      "outputs": []
    },
    {
      "cell_type": "markdown",
      "metadata": {
        "id": "YPXEMnuRG-T9"
      },
      "source": [
        "Dari contoh di atas, kita mendefinisikan fungsi yang memiliki arguments ‘who’. Di dalam fungsi tersebut kita mengassign nilai “Colin” terhadap argumen ‘who’. Ini menunjukan, jika kita tidak memberikan nilai ‘who’ ketika kita memanggil fungsi tersebut.,maka fungsi tersebut akan memiliki nilai argument ‘who’ sebagai “Colion”. Berikut contohnya :"
      ]
    },
    {
      "cell_type": "code",
      "metadata": {
        "colab": {
          "base_uri": "https://localhost:8080/"
        },
        "id": "V3zo7L2jG8F9",
        "outputId": "9b9fdbb9-e73c-4218-f1b3-0c71cf480510"
      },
      "source": [
        "# memanggil fungsi tanpa memberikan nilai untuk argumentt who\n",
        "print(greet()) #\"Hello Colion\"\n",
        "\n",
        "# memanggil fungsi dengan memiliki argument who\n",
        "print(greet()) #\"Hello Colin\"\n",
        "\n",
        "# memanggil fungsi dengan memberikan argument untuk nilai who\n",
        "print(greet(\"Fauzan\")) #\"Hello Fauzan\""
      ],
      "execution_count": null,
      "outputs": [
        {
          "output_type": "stream",
          "name": "stdout",
          "text": [
            "Hello, Colin\n",
            "None\n",
            "Hello, Colin\n",
            "None\n",
            "Hello, Fauzan\n",
            "None\n"
          ]
        }
      ]
    },
    {
      "cell_type": "markdown",
      "metadata": {
        "id": "xfW9C2IFIfF5"
      },
      "source": [
        "### Keyword Parameter\n",
        "Keyword parameter, merupakan saat kita memanggil fungsi tersebut dengan keyword yang sudah ditentukan, hampir mirip seperti pada default."
      ]
    },
    {
      "cell_type": "code",
      "metadata": {
        "colab": {
          "base_uri": "https://localhost:8080/"
        },
        "id": "Gs_GQOarHPcN",
        "outputId": "03dbb144-6d00-40c5-e2dd-64a6bf600a4e"
      },
      "source": [
        "def fungsi_04(nama):\n",
        "  print(nama)\n",
        "\n",
        "fungsi_04(nama = 'rudi')"
      ],
      "execution_count": null,
      "outputs": [
        {
          "output_type": "stream",
          "name": "stdout",
          "text": [
            "rudi\n"
          ]
        }
      ]
    },
    {
      "cell_type": "markdown",
      "metadata": {
        "id": "H_rtacbsJ_rA"
      },
      "source": [
        "### Arbitary Parameter\n",
        "Arbitary adalah saat kita tidak mengetahui berapa parameter yang ingin kita masukkan saat melakukan pembuatan fungsi. Ada dua jenis arbitrary parameter pada fungsi,\n",
        "\n",
        "1.   Args parameter, menggunakan satu tanda asterisk sebelum parameter. Parameter berbentuk tuple.\n",
        "2.   Kwargs parameter, menggunakan dua tanda asterisk sebelum parameter. Parameter berbentuk dictionary.\n"
      ]
    },
    {
      "cell_type": "code",
      "metadata": {
        "colab": {
          "base_uri": "https://localhost:8080/"
        },
        "id": "DPHpGCzPIgLI",
        "outputId": "7027dd2a-21d7-4f4d-fcd8-177022177635"
      },
      "source": [
        "#contoh fungsi args\n",
        "def fungsi_05 (*nama):\n",
        "  for item in nama:\n",
        "    print(item)\n",
        "\n",
        "\n",
        "fungsi_05('rudi','santi','mirna')"
      ],
      "execution_count": null,
      "outputs": [
        {
          "output_type": "stream",
          "name": "stdout",
          "text": [
            "rudi\n",
            "santi\n",
            "mirna\n"
          ]
        }
      ]
    },
    {
      "cell_type": "code",
      "metadata": {
        "colab": {
          "base_uri": "https://localhost:8080/"
        },
        "id": "nsVMUCsNKOSt",
        "outputId": "a91180f7-67e7-4c91-8c93-e0aed5c21c39"
      },
      "source": [
        "#contoh fungsi kwargs\n",
        "def fungsi_06 (**nama):\n",
        "  for key, value in nama.items():\n",
        "    print(key, value)\n",
        "\n",
        "fungsi_06(nama = 'rudi', umur = 18)"
      ],
      "execution_count": null,
      "outputs": [
        {
          "output_type": "stream",
          "name": "stdout",
          "text": [
            "nama rudi\n",
            "umur 18\n"
          ]
        }
      ]
    },
    {
      "cell_type": "markdown",
      "metadata": {
        "id": "zFtxR076KuXO"
      },
      "source": [
        "## Fungsi Lambda\n",
        "Fungsi Lambda dikenal sebagai fungsi anonim, dimana fungsi ini tidak terdefinisi artinya kita bisa melakukan operasi menggunakan fungsi lambda tanpa mendefinisikan terlebih dahulu fungsinya. Dalam fungsi lambda, ia bisa memiliki beberapa argumen tetapi hanya memiliki 1 ekspresi.\n",
        "\n",
        "Persamaan umum dari fungsi lambda adalah.\n",
        "\n",
        "lambda argument: kode/pernyataan\n",
        "contohnya,"
      ]
    },
    {
      "cell_type": "code",
      "metadata": {
        "colab": {
          "base_uri": "https://localhost:8080/"
        },
        "id": "fG2pBqq7Klm-",
        "outputId": "3973b062-2a8e-4951-8232-17ecf2655b35"
      },
      "source": [
        "kali_2 = lambda x: x * 2\n",
        "\n",
        "print(kali_2(2))"
      ],
      "execution_count": null,
      "outputs": [
        {
          "output_type": "stream",
          "name": "stdout",
          "text": [
            "4\n"
          ]
        }
      ]
    },
    {
      "cell_type": "markdown",
      "metadata": {
        "id": "FFRk0Zf_LBal"
      },
      "source": [
        "Contoh di atas merupakan contoh yang kurang baik dalam penggunaan lambda, karena tujuan fungsi lambda adalah fungsi sementara yang tidak disimpan di dalam memori. Untuk memenuhi tujuan ini, biasanya fungsi lambda selain digunakan secara langsung juga digunakan dengan memanfaatkan tiga fungsi lain, yaitu Map, Filter, dan Reduce."
      ]
    },
    {
      "cell_type": "markdown",
      "metadata": {
        "id": "FrlTKsi_LDR9"
      },
      "source": [
        "### Map\n",
        "Fungsi map adalah fungsi yang digunakan untuk mengaplikasikan suatu fungsi pada semua anggota array atau struktur data. Terdapat dua paramater masukkan pada fungsi Map, yang pertama berisi fungsinya dan yang kedua berisi array/struktur datanya.\n",
        "\n",
        "![image.png](data:image/png;base64,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)"
      ]
    },
    {
      "cell_type": "code",
      "metadata": {
        "colab": {
          "base_uri": "https://localhost:8080/"
        },
        "id": "bzjc3SNrK8FM",
        "outputId": "db6b3111-7d52-4854-b520-17aa93f819e6"
      },
      "source": [
        "# Contoh dari fungsi map adalah.\n",
        "\n",
        "data = [1,2,3,4]\n",
        "\n",
        "def kali_3(nilai):\n",
        "  return nilai*3\n",
        "\n",
        "hasil = list(map(kali_3,data))\n",
        "\n",
        "print(hasil)"
      ],
      "execution_count": null,
      "outputs": [
        {
          "output_type": "stream",
          "name": "stdout",
          "text": [
            "[3, 6, 9, 12]\n"
          ]
        }
      ]
    },
    {
      "cell_type": "code",
      "metadata": {
        "colab": {
          "base_uri": "https://localhost:8080/"
        },
        "id": "By6maTC_Lv08",
        "outputId": "8e2e7673-5a74-4507-e794-4c789c51e876"
      },
      "source": [
        "# Sekarang akan kita coba aplikasikan fungsi lambda pada fungsi map.\n",
        "\n",
        "data = [1,2,3,4]\n",
        "\n",
        "hasil = list(map(lambda x:x*3,data))\n",
        "\n",
        "print(hasil)"
      ],
      "execution_count": null,
      "outputs": [
        {
          "output_type": "stream",
          "name": "stdout",
          "text": [
            "[3, 6, 9, 12]\n"
          ]
        }
      ]
    },
    {
      "cell_type": "markdown",
      "metadata": {
        "id": "CwIHThCpMP7d"
      },
      "source": [
        "### Filter\n",
        "Fungsi filter adalah fungsi yang digunakan untuk mengaplikasikan suatu fungsi pada list untuk mendapatkan nilai yang sesuai syarat. Terdapat dua paramater masukkan pada fungsi Filter, yang pertama berisi fungsinya dan yang kedua berisi array/struktur datanya.\n",
        "\n",
        "![image.png](data:image/png;base64,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)"
      ]
    },
    {
      "cell_type": "code",
      "metadata": {
        "colab": {
          "base_uri": "https://localhost:8080/"
        },
        "id": "wG1LAUFaMR0b",
        "outputId": "3fa0b5f9-9bde-47ab-8ac2-3401104a07dd"
      },
      "source": [
        "# Contoh dari fungsi filter adalah.\n",
        "\n",
        "data = [1,2,3,4]\n",
        "\n",
        "def cek_genap(nilai):\n",
        "   if nilai % 2 == 0:\n",
        "      return True\n",
        "   return False\n",
        "hasil = list(filter(cek_genap,data)) \n",
        "print(hasil)"
      ],
      "execution_count": null,
      "outputs": [
        {
          "output_type": "stream",
          "name": "stdout",
          "text": [
            "[2, 4]\n"
          ]
        }
      ]
    },
    {
      "cell_type": "code",
      "metadata": {
        "colab": {
          "base_uri": "https://localhost:8080/"
        },
        "id": "DZB1FpZNMag7",
        "outputId": "08e7c7ee-d805-44dd-93ee-802f715fa85a"
      },
      "source": [
        "# Sekarang akan kita coba aplikasikan fungsi lambda bersama dengan fungsi filter.\n",
        "\n",
        "data = [1,2,3,4]\n",
        "\n",
        "hasil = list(filter(lambda x:x%2 == 0,data))\n",
        "\n",
        "print(hasil)"
      ],
      "execution_count": null,
      "outputs": [
        {
          "output_type": "stream",
          "name": "stdout",
          "text": [
            "[2, 4]\n"
          ]
        }
      ]
    },
    {
      "cell_type": "markdown",
      "metadata": {
        "id": "jYn0l4dUNAW_"
      },
      "source": [
        "### Reduce\n",
        "Fungsi reduce adalah fungsi yang digunakan untuk mengaplikasikan suatu fungsi pada semua anggota array atau struktur data untuk mendapatkan satu nilai di akhir."
      ]
    },
    {
      "cell_type": "markdown",
      "metadata": {
        "id": "ktGsYpyKOW-t"
      },
      "source": [
        "Misalkan kita memiliki fungsi f(a,b) = Y yang akan diaplikasikan pada list [1,2,3,4]\n",
        "\n",
        "Reduce akan mengambil dua nilai paling awal untuk dimasukkan pada fungsi, menjadi f(1,2) = Y\n",
        "\n",
        "lalu nilai Y akan dimasukkan pada list menggantikan 2 nilai lama, menjadi [Y,3,4]\n",
        "\n",
        "setelah itu diambil kembali dua nilai paling awal untuk dimasukkan pada fungsi, menjadi f(Y,3) = Y\n",
        "\n",
        "Begitu seterusnya hingga semua nilai ter-reduce menjadi satu nilai.\n",
        "\n",
        "![image.png](data:image/png;base64,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)\n",
        "\n",
        "Terdapat dua paramater masukkan pada fungsi reduce, yang pertama berisi fungsinya dan yang kedua berisi array/struktur datanya. Mulai pada python 3.xx reduce dimasukkan pada modul functools sehingga untuk memakainya kita perlu import modulnya terlebih dahulu"
      ]
    },
    {
      "cell_type": "code",
      "metadata": {
        "colab": {
          "base_uri": "https://localhost:8080/"
        },
        "id": "NDZIQZJHMzT9",
        "outputId": "4387a688-26d3-4fd5-835b-9359e02642e4"
      },
      "source": [
        "# Contoh dari fungsi reduce adalah.\n",
        "\n",
        "\n",
        "from functools import reduce\n",
        "data = [3,6,2,8,6,9,3]\n",
        "\n",
        "def cek_maks(a,b):\n",
        "  if a > b:\n",
        "    return a\n",
        "  else:\n",
        "    return b\n",
        "\n",
        "hasil  = reduce(cek_maks,data)\n",
        "print(hasil)"
      ],
      "execution_count": null,
      "outputs": [
        {
          "output_type": "stream",
          "name": "stdout",
          "text": [
            "9\n"
          ]
        }
      ]
    },
    {
      "cell_type": "code",
      "metadata": {
        "colab": {
          "base_uri": "https://localhost:8080/"
        },
        "id": "8WSXgEfuON8u",
        "outputId": "704c6e60-b272-4185-ece7-4e9dfa62f1a2"
      },
      "source": [
        "# Sekarang akan kita coba aplikasikan fungsi lambda bersama dengan fungsi reduce.\n",
        "\n",
        "from functools import reduce\n",
        "\n",
        "data = [3,6,2,8,6,9,3]\n",
        "\n",
        "hasil = reduce(lambda a,b: a if a > b else b,data)\n",
        "\n",
        "print(hasil)"
      ],
      "execution_count": null,
      "outputs": [
        {
          "output_type": "stream",
          "name": "stdout",
          "text": [
            "9\n"
          ]
        }
      ]
    },
    {
      "cell_type": "markdown",
      "metadata": {
        "id": "Z2XKTuUyOoME"
      },
      "source": [
        "# Method\n",
        "Method adalah salah satu hal yang sangat penting dalam python. memahami method akan membuat kita semakin pro dalam menggunakan bahasa python.\n",
        "\n",
        "Sederhananya, method adalah suatu fungsi yang dimiliki oleh suatu object.\n",
        "\n",
        "Apa itu object? Segala yang ada di python adalah object. Contohnya kita membuat variabel bertipe string, bertipe list, bertipe numeric dan lain sebagainya, itu semua adalah object, dan setiap object memiki fungsi yang hanya bisa digunakan oleh object tersebut. Sebagai contoh, object string memiliki method uppercase, dimana method upper ini tidak bisa digunakan oleh object lain seperti list. Tapi list juga memiliki fungsi seperti index, yang dimana fungsi index ini tidak bisa digunakan oleh data dengan tipe objek lain seperti string contohnya. Jadi intinya, fungsi yang dimiliki oleh suatu object dinamakan method. Berikut adalah contohnya :"
      ]
    },
    {
      "cell_type": "code",
      "metadata": {
        "colab": {
          "base_uri": "https://localhost:8080/"
        },
        "id": "XOIyS0GSOXWr",
        "outputId": "e767dd56-c135-4227-8daf-66d38ab7035d"
      },
      "source": [
        "# membuat object string\n",
        "huruf_kecil = 'huruf_kecil'\n",
        "# memanggil salah satu method string\n",
        "print(huruf_kecil.upper())"
      ],
      "execution_count": null,
      "outputs": [
        {
          "output_type": "stream",
          "name": "stdout",
          "text": [
            "HURUF_KECIL\n"
          ]
        }
      ]
    },
    {
      "cell_type": "code",
      "metadata": {
        "colab": {
          "base_uri": "https://localhost:8080/"
        },
        "id": "1mC-Uz1QOppb",
        "outputId": "3417da97-33a2-4b62-f87e-1c8e610ebc39"
      },
      "source": [
        "# mendifinisikan object list\n",
        "keluarga_ucup = ['mamah', 'papah', 'ucup', 'adek ucup', 'kaka ucup']\n",
        "# memanggil method yang dimiliki oleh list\n",
        "print(keluarga_ucup.index('ucup'))"
      ],
      "execution_count": null,
      "outputs": [
        {
          "output_type": "stream",
          "name": "stdout",
          "text": [
            "2\n"
          ]
        }
      ]
    },
    {
      "cell_type": "code",
      "metadata": {
        "colab": {
          "base_uri": "https://localhost:8080/",
          "height": 129
        },
        "id": "NT9PUJMoO99M",
        "outputId": "83afc36f-4bfd-44bf-cbbf-6e65ed3c6873"
      },
      "source": [
        "## jika kita menggunakan method upper ketika object list, maka akan error\n",
        "## karena method tersebut bukan dimiliki object list\n",
        "print(keluarga_ucup.upper())\n",
        "AttributeError                            Traceback (most recent call last)\n",
        "<ipython-input-12-13e588d6418a> in <module>\n",
        "----> 1 keluarga_ucup.upper()\n",
        "\n",
        "AttributeError: 'list' object has no attribute 'upper'"
      ],
      "execution_count": null,
      "outputs": [
        {
          "output_type": "error",
          "ename": "SyntaxError",
          "evalue": "ignored",
          "traceback": [
            "\u001b[0;36m  File \u001b[0;32m\"<ipython-input-26-921e847fd395>\"\u001b[0;36m, line \u001b[0;32m4\u001b[0m\n\u001b[0;31m    AttributeError                            Traceback (most recent call last)\u001b[0m\n\u001b[0m                                                      ^\u001b[0m\n\u001b[0;31mSyntaxError\u001b[0m\u001b[0;31m:\u001b[0m invalid syntax\n"
          ]
        }
      ]
    },
    {
      "cell_type": "markdown",
      "metadata": {
        "id": "XFu7zFHDRyJ2"
      },
      "source": [
        "# Menggunakan External Library\n",
        "\n",
        "So far, kita telah mengenal fungsi bawaan dari python. Fungsi bawaan adalah fungsi yang sudah ada di python tanpa kita harus menginstall apapun. Namun di python juga ada berbagai fungsi, method, object yang bukan merupakan bawaan dari python, tapi hasil kerja dari orang lain yang telah membagikannya kepada kita, sesuatu ini kita namakan external library. Kita bisa menggunakan external library tersebut dengan cara menginstallnya dan kemudian menggunakannya di kode kita.\n",
        "\n",
        "Ada banyak sekali external library di python. Beberapa external library yang sangat penting untuk data science adalah numpy, pandas, skit-learn, dan lain sebagainya.\n",
        "\n",
        "Cara untuk menginstall external library ini, yang paling mudah adalah dengan menggunakan package manager. Di python package manager ini bernama ‘pip’, contohnya bila kita ingin menginstsall library numpy, maka kita cukup membuka command prompt lalu ketikan ‘pip install numpy’, seperti contoh berikut :"
      ]
    },
    {
      "cell_type": "markdown",
      "metadata": {
        "id": "V-Ivb2oGSJ_1"
      },
      "source": [
        "![image.png](data:image/png;base64,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)\n",
        "\n",
        "Untuk menggunakan external library di kode python kita, kita terlebih dahulu memanggil library tersebut menggunakan suatu keyword yaitu ‘import’. Berikut adalah contoh memanggil dan menggunakan external library di python :"
      ]
    },
    {
      "cell_type": "code",
      "metadata": {
        "colab": {
          "base_uri": "https://localhost:8080/"
        },
        "id": "i90-YRscRnMU",
        "outputId": "b2322475-316b-487c-d49b-57c73ff23601"
      },
      "source": [
        "# Definition of radius\n",
        "r = 0.43\n",
        "\n",
        "# Import the math package\n",
        "import math\n",
        "pi=math.pi \n",
        "\n",
        "# Calculate C\n",
        "C = 2*pi*r \n",
        "\n",
        "# Calculate A\n",
        "A = pi*r*r \n",
        "\n",
        "# Build printout\n",
        "print(\"Circumference: \" + str(C))\n",
        "Circumference: 2.701769682087222\n",
        "print(\"Area: \" + str(A))\n",
        "Area: 0.5808804816487527"
      ],
      "execution_count": null,
      "outputs": [
        {
          "output_type": "stream",
          "name": "stdout",
          "text": [
            "Circumference: 2.701769682087222\n",
            "Area: 0.5808804816487527\n"
          ]
        }
      ]
    },
    {
      "cell_type": "markdown",
      "metadata": {
        "id": "d0Xb7K9HScmN"
      },
      "source": [
        "Dari kode block di atas kita memanggil library math, kemudian kita menggunakan attribute pi yang ada di dalam library math."
      ]
    },
    {
      "cell_type": "markdown",
      "metadata": {
        "id": "se9JRjuTSoAs"
      },
      "source": [
        "### Materi Video:\n",
        "[Fungsi Lambda](https://youtu.be/-vHGryfTWco)"
      ]
    },
    {
      "cell_type": "markdown",
      "metadata": {
        "id": "u5CVRiGJSx89"
      },
      "source": [
        "### Referensi Video:\n",
        "\n",
        "*   [Pengenalan Fungsi](https://www.youtube.com/watch?v=WjM68icSw3s)\n",
        "*   [Argumen Fungsi](https://www.youtube.com/watch?v=vWuSLG_6rxA)\n",
        "*   [Return Value Function](https://www.youtube.com/watch?v=23dDEp6WPH4)\n",
        "\n"
      ]
    },
    {
      "cell_type": "markdown",
      "metadata": {
        "id": "Q7xxX2pWTwVt"
      },
      "source": [
        "### Referensi Artikel:\n",
        "\n",
        "*   [https://belajarpython.com/tutorial/fungsi-python](https://belajarpython.com/tutorial/fungsi-python)\n",
        "*   [https://www.petanikode.com/python-fungsi/](https://www.petanikode.com/python-fungsi/)\n",
        "\n",
        "\n"
      ]
    },
    {
      "cell_type": "code",
      "metadata": {
        "id": "l_fknYDDTzwB"
      },
      "source": [
        ""
      ],
      "execution_count": null,
      "outputs": []
    }
  ]
}