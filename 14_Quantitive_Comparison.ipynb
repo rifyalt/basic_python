{
  "nbformat": 4,
  "nbformat_minor": 0,
  "metadata": {
    "colab": {
      "name": "14_Quantitive Comparison.ipynb",
      "provenance": [],
      "toc_visible": true,
      "authorship_tag": "ABX9TyO0A1EOAd3I42jVI0A1UFyx",
      "include_colab_link": true
    },
    "kernelspec": {
      "name": "python3",
      "display_name": "Python 3"
    },
    "language_info": {
      "name": "python"
    }
  },
  "cells": [
    {
      "cell_type": "markdown",
      "metadata": {
        "id": "view-in-github",
        "colab_type": "text"
      },
      "source": [
        "<a href=\"https://colab.research.google.com/github/rifyalt/basic_python/blob/main/14_Quantitive_Comparison.ipynb\" target=\"_parent\"><img src=\"https://colab.research.google.com/assets/colab-badge.svg\" alt=\"Open In Colab\"/></a>"
      ]
    },
    {
      "cell_type": "markdown",
      "metadata": {
        "id": "JIg8BLUAvMlj"
      },
      "source": [
        "# Overview Materi\n",
        "Pada materi-materi sebelumnya telah di perkenalkan tentang pondasi-pondasi visualisasi. Dari sekarang dan ke depan materi akan lebih advance lagi, pertama akan di perkenalkan beberapa bentuk visualisasi lainnya (sebelumnya telah di pelajari lineplot), kemudian akan di tunjukan kegunaannya untuk perbandingan kuantitatif."
      ]
    },
    {
      "cell_type": "markdown",
      "metadata": {
        "id": "ZjamT6guwGSh"
      },
      "source": [
        "Langsung saja. beberapa bentuk visualisasi yang akan di perkenalkan adalah :\n",
        "\n",
        "*   Bar Chart\n",
        "*   Scatter Plot\n",
        "* Histogram\n",
        "\n",
        "Akan di gunakan data tentang penjualan video games dalam satuan juta dollar, yang mana filenya bisa di download disini.\n",
        "\n",
        "Datanya sebagai berikut :"
      ]
    },
    {
      "cell_type": "code",
      "metadata": {
        "colab": {
          "base_uri": "https://localhost:8080/"
        },
        "id": "EF_5yXJHweMg",
        "outputId": "a67558a4-5424-453b-8954-cb3eda1cbe73"
      },
      "source": [
        "from google.colab import drive\n",
        "from google.colab import files\n",
        "\n",
        "drive.mount('/content/drive')"
      ],
      "execution_count": null,
      "outputs": [
        {
          "output_type": "stream",
          "name": "stdout",
          "text": [
            "Mounted at /content/drive\n"
          ]
        }
      ]
    },
    {
      "cell_type": "code",
      "metadata": {
        "id": "4EL3aZs3vIff",
        "colab": {
          "base_uri": "https://localhost:8080/",
          "height": 202
        },
        "outputId": "e0007260-47e8-45a5-a5ea-550e08771827"
      },
      "source": [
        "import pandas as pd\n",
        "\n",
        "path = '/content/drive/MyDrive/PKS Digi School/Pekan 3/vgsales.csv'\n",
        "df = pd.read_csv(path)\n",
        "df.head()"
      ],
      "execution_count": 3,
      "outputs": [
        {
          "output_type": "execute_result",
          "data": {
            "text/html": [
              "<div>\n",
              "<style scoped>\n",
              "    .dataframe tbody tr th:only-of-type {\n",
              "        vertical-align: middle;\n",
              "    }\n",
              "\n",
              "    .dataframe tbody tr th {\n",
              "        vertical-align: top;\n",
              "    }\n",
              "\n",
              "    .dataframe thead th {\n",
              "        text-align: right;\n",
              "    }\n",
              "</style>\n",
              "<table border=\"1\" class=\"dataframe\">\n",
              "  <thead>\n",
              "    <tr style=\"text-align: right;\">\n",
              "      <th></th>\n",
              "      <th>Rank</th>\n",
              "      <th>Name</th>\n",
              "      <th>Platform</th>\n",
              "      <th>Year</th>\n",
              "      <th>Genre</th>\n",
              "      <th>Publisher</th>\n",
              "      <th>NA_Sales</th>\n",
              "      <th>EU_Sales</th>\n",
              "      <th>JP_Sales</th>\n",
              "      <th>Other_Sales</th>\n",
              "      <th>Global_Sales</th>\n",
              "    </tr>\n",
              "  </thead>\n",
              "  <tbody>\n",
              "    <tr>\n",
              "      <th>0</th>\n",
              "      <td>1</td>\n",
              "      <td>Wii Sports</td>\n",
              "      <td>Wii</td>\n",
              "      <td>2006.0</td>\n",
              "      <td>Sports</td>\n",
              "      <td>Nintendo</td>\n",
              "      <td>41.49</td>\n",
              "      <td>29.02</td>\n",
              "      <td>3.77</td>\n",
              "      <td>8.46</td>\n",
              "      <td>82.74</td>\n",
              "    </tr>\n",
              "    <tr>\n",
              "      <th>1</th>\n",
              "      <td>2</td>\n",
              "      <td>Super Mario Bros.</td>\n",
              "      <td>NES</td>\n",
              "      <td>1985.0</td>\n",
              "      <td>Platform</td>\n",
              "      <td>Nintendo</td>\n",
              "      <td>29.08</td>\n",
              "      <td>3.58</td>\n",
              "      <td>6.81</td>\n",
              "      <td>0.77</td>\n",
              "      <td>40.24</td>\n",
              "    </tr>\n",
              "    <tr>\n",
              "      <th>2</th>\n",
              "      <td>3</td>\n",
              "      <td>Mario Kart Wii</td>\n",
              "      <td>Wii</td>\n",
              "      <td>2008.0</td>\n",
              "      <td>Racing</td>\n",
              "      <td>Nintendo</td>\n",
              "      <td>15.85</td>\n",
              "      <td>12.88</td>\n",
              "      <td>3.79</td>\n",
              "      <td>3.31</td>\n",
              "      <td>35.82</td>\n",
              "    </tr>\n",
              "    <tr>\n",
              "      <th>3</th>\n",
              "      <td>4</td>\n",
              "      <td>Wii Sports Resort</td>\n",
              "      <td>Wii</td>\n",
              "      <td>2009.0</td>\n",
              "      <td>Sports</td>\n",
              "      <td>Nintendo</td>\n",
              "      <td>15.75</td>\n",
              "      <td>11.01</td>\n",
              "      <td>3.28</td>\n",
              "      <td>2.96</td>\n",
              "      <td>33.00</td>\n",
              "    </tr>\n",
              "    <tr>\n",
              "      <th>4</th>\n",
              "      <td>5</td>\n",
              "      <td>Pokemon Red/Pokemon Blue</td>\n",
              "      <td>GB</td>\n",
              "      <td>1996.0</td>\n",
              "      <td>Role-Playing</td>\n",
              "      <td>Nintendo</td>\n",
              "      <td>11.27</td>\n",
              "      <td>8.89</td>\n",
              "      <td>10.22</td>\n",
              "      <td>1.00</td>\n",
              "      <td>31.37</td>\n",
              "    </tr>\n",
              "  </tbody>\n",
              "</table>\n",
              "</div>"
            ],
            "text/plain": [
              "   Rank                      Name Platform  ...  JP_Sales Other_Sales Global_Sales\n",
              "0     1                Wii Sports      Wii  ...      3.77        8.46        82.74\n",
              "1     2         Super Mario Bros.      NES  ...      6.81        0.77        40.24\n",
              "2     3            Mario Kart Wii      Wii  ...      3.79        3.31        35.82\n",
              "3     4         Wii Sports Resort      Wii  ...      3.28        2.96        33.00\n",
              "4     5  Pokemon Red/Pokemon Blue       GB  ...     10.22        1.00        31.37\n",
              "\n",
              "[5 rows x 11 columns]"
            ]
          },
          "metadata": {},
          "execution_count": 3
        }
      ]
    },
    {
      "cell_type": "markdown",
      "metadata": {
        "id": "I6FogR0dxde6"
      },
      "source": [
        "# Pengenalan Beberapa Bentuk Visualisasi\n",
        "\n",
        "## Bar Chart\n",
        "Bar chart bisa di buat dengan method bar. Bar chart berguna untuk memvisualisasikan frekuensi kejadian suatu data berdasarkan suatu kategori. Jadi, bar chart ini di visualisasikan untuk membandingkan data yang bertipe kategori. Bar chart berguna bila jumlah kategori tidak lebih dari 30 pada umumnya. Apabila lebih dari itu, biasanya bar chart akan menjadi kacau sehingga data sulit untuk di interpretasi.\n",
        "\n",
        "Berikut contoh sederhana dari visualisasi bar chart:"
      ]
    },
    {
      "cell_type": "code",
      "metadata": {
        "id": "1myUfBuzwfGY",
        "colab": {
          "base_uri": "https://localhost:8080/",
          "height": 316
        },
        "outputId": "c052ee5b-ed7b-41fd-ed60-0dc13ab4f922"
      },
      "source": [
        "# import library\n",
        "import pandas as pd\n",
        "import matplotlib.pyplot as plt\n",
        "\n",
        "# read data vgsales\n",
        "df = pd.read_csv(path)\n",
        "\n",
        "# extract data tentang banyaknya setiap jenis genre dalam data\n",
        "data = df['Genre'].value_counts()\n",
        "category = data.index\n",
        "frequency = data.values\n",
        "\n",
        "# plot data\n",
        "fig, ax = plt.subplots()\n",
        "ax.bar(category, frequency)\n",
        "ax.set_xticklabels(category, rotation=90)\n",
        "plt.show()"
      ],
      "execution_count": 5,
      "outputs": [
        {
          "output_type": "display_data",
          "data": {
            "image/png": "[encoded data removed]",
            "text/plain": [
              "<Figure size 432x288 with 1 Axes>"
            ]
          },
          "metadata": {
            "needs_background": "light"
          }
        }
      ]
    },
    {
      "cell_type": "markdown",
      "metadata": {
        "id": "mL1VS6C4xt9i"
      },
      "source": [
        "Dari gambar di atas dapat di lihat bahwa data ini memiliki paling banyak data video games dengan genre Action, kemudian Sport, dan seterusnya.\n",
        "\n",
        "Method set_xticklabels() adalah untuk mengontrol komponen label data di sumbu x. di berikan label nya dengan data category, dan di putar sebesar 90 derajat agar label tidak bertumpuk.\n",
        "\n",
        "Pada bahasan selanjutnya akan di tunjukan improvisasi terhadap visualisasi ini."
      ]
    },
    {
      "cell_type": "markdown",
      "metadata": {
        "id": "P5FF0pogxwQx"
      },
      "source": [
        "## Scatter Plot\n",
        "Scatter plot berguna untuk melakukan perbandingan data antara data bertipe numerik. untuk melakukan visualisasi scatter plot bisa dilakukan menggunakan method scatter().\n",
        "\n",
        "Contoh akan di visualisasikan dengan scatter plot data tentang penjualan semua video games di jepang dan Europa."
      ]
    },
    {
      "cell_type": "code",
      "metadata": {
        "colab": {
          "base_uri": "https://localhost:8080/",
          "height": 294
        },
        "id": "VTgtInmexi3k",
        "outputId": "e06d3bef-875e-4d15-d39c-c1dc4950228c"
      },
      "source": [
        "fig, ax = plt.subplots()\n",
        "\n",
        "# pembuatan plot\n",
        "ax.scatter(df['JP_Sales'], df['EU_Sales'], c='g')\n",
        "\n",
        "# axis labeling\n",
        "ax.set_xlabel('Penjualan di Jepang')\n",
        "ax.set_ylabel('Penjualan di Europa')\n",
        "##ax.set_title('Penjualan Semua Video Games')\n",
        "\n",
        "plt.show()"
      ],
      "execution_count": 6,
      "outputs": [
        {
          "output_type": "display_data",
          "data": {
            "image/png": "[encoded data removed]",
            "text/plain": [
              "<Figure size 432x288 with 1 Axes>"
            ]
          },
          "metadata": {
            "needs_background": "light"
          }
        }
      ]
    },
    {
      "cell_type": "markdown",
      "metadata": {
        "id": "EcyKBj12yRET"
      },
      "source": [
        "## Histogram\n",
        "\n",
        "Histogram mempunyai kemiripan dengan bar chart, beberapa keliru memahami bahwa bar chart sama dengan histogram. Kunci dari perbedaannya adalah Histogram untuk memvisualisasikan distribusi data dari suatu data bertipe numerik dan continues. sedangan bar chart untuk memvisualisasikan data bertipe kategori.\n",
        "\n",
        "Misalkan ingin mengetahui perbedaan distribusi penjualan video games di seluruh dunia untuk game bergenre Action dan Sport. Berikut adalah contoh visualisasi dari Histogram nya :"
      ]
    },
    {
      "cell_type": "code",
      "metadata": {
        "colab": {
          "base_uri": "https://localhost:8080/",
          "height": 513
        },
        "id": "E9h2qot0yNxp",
        "outputId": "734536b4-57c4-46d2-9766-65a1602942d3"
      },
      "source": [
        "action = df[df['Genre']=='Action']['Global_Sales']\n",
        "sport = df[df['Genre']=='Sports']['Global_Sales']\n",
        "\n",
        "fig, ax = plt.subplots(ncols=2, figsize=(16, 8))\n",
        "ax[0].hist(action, bins=50)\n",
        "ax[0].set_xlabel('Penjualan Global Game Action')\n",
        "ax[0].set_ylabel('Frekuensi')\n",
        "ax[0].set_title('Distribusi Game Action Global')\n",
        "\n",
        "ax[1].hist(sport, bins=50, color='g')\n",
        "ax[1].set_xlabel('Penjualan Global Game Sports')\n",
        "ax[1].set_ylabel('Frekuensi')\n",
        "ax[1].set_title('Distribusi Penjualan Game Sports Global')\n",
        "plt.show()"
      ],
      "execution_count": 7,
      "outputs": [
        {
          "output_type": "display_data",
          "data": {
            "image/png": "[encoded data removed]",
            "text/plain": [
              "<Figure size 1152x576 with 2 Axes>"
            ]
          },
          "metadata": {
            "needs_background": "light"
          }
        }
      ]
    },
    {
      "cell_type": "markdown",
      "metadata": {
        "id": "4VsLkycLybdy"
      },
      "source": [
        "## Stacked Bar Chart\n",
        "\n",
        "Stacked Bar Chart digunakan untuk membandingkan total value pada bebrapa kategori, seperti contoh kita akan menggunakan dataset Iris:"
      ]
    },
    {
      "cell_type": "code",
      "metadata": {
        "colab": {
          "base_uri": "https://localhost:8080/",
          "height": 171
        },
        "id": "kYOCC4VwyX1H",
        "outputId": "ae84d926-72d8-4fe4-8741-a68979a3ec90"
      },
      "source": [
        "import matplotlib.pyplot as plt\n",
        "import pandas as pd\n",
        "\n",
        "path2 = '/content/drive/MyDrive/PKS Digi School/Pekan 3/Iris.csv'\n",
        "\n",
        "df = pd.read_csv(path2, index_col=0)\n",
        "df_group = df.groupby('Species').mean()\n",
        "df_group.head()"
      ],
      "execution_count": 8,
      "outputs": [
        {
          "output_type": "execute_result",
          "data": {
            "text/html": [
              "<div>\n",
              "<style scoped>\n",
              "    .dataframe tbody tr th:only-of-type {\n",
              "        vertical-align: middle;\n",
              "    }\n",
              "\n",
              "    .dataframe tbody tr th {\n",
              "        vertical-align: top;\n",
              "    }\n",
              "\n",
              "    .dataframe thead th {\n",
              "        text-align: right;\n",
              "    }\n",
              "</style>\n",
              "<table border=\"1\" class=\"dataframe\">\n",
              "  <thead>\n",
              "    <tr style=\"text-align: right;\">\n",
              "      <th></th>\n",
              "      <th>SepalLengthCm</th>\n",
              "      <th>SepalWidthCm</th>\n",
              "      <th>PetalLengthCm</th>\n",
              "      <th>PetalWidthCm</th>\n",
              "    </tr>\n",
              "    <tr>\n",
              "      <th>Species</th>\n",
              "      <th></th>\n",
              "      <th></th>\n",
              "      <th></th>\n",
              "      <th></th>\n",
              "    </tr>\n",
              "  </thead>\n",
              "  <tbody>\n",
              "    <tr>\n",
              "      <th>Iris-setosa</th>\n",
              "      <td>5.006</td>\n",
              "      <td>3.418</td>\n",
              "      <td>1.464</td>\n",
              "      <td>0.244</td>\n",
              "    </tr>\n",
              "    <tr>\n",
              "      <th>Iris-versicolor</th>\n",
              "      <td>5.936</td>\n",
              "      <td>2.770</td>\n",
              "      <td>4.260</td>\n",
              "      <td>1.326</td>\n",
              "    </tr>\n",
              "    <tr>\n",
              "      <th>Iris-virginica</th>\n",
              "      <td>6.588</td>\n",
              "      <td>2.974</td>\n",
              "      <td>5.552</td>\n",
              "      <td>2.026</td>\n",
              "    </tr>\n",
              "  </tbody>\n",
              "</table>\n",
              "</div>"
            ],
            "text/plain": [
              "                 SepalLengthCm  SepalWidthCm  PetalLengthCm  PetalWidthCm\n",
              "Species                                                                  \n",
              "Iris-setosa              5.006         3.418          1.464         0.244\n",
              "Iris-versicolor          5.936         2.770          4.260         1.326\n",
              "Iris-virginica           6.588         2.974          5.552         2.026"
            ]
          },
          "metadata": {},
          "execution_count": 8
        }
      ]
    },
    {
      "cell_type": "code",
      "metadata": {
        "colab": {
          "base_uri": "https://localhost:8080/",
          "height": 483
        },
        "id": "YYfokoHSydVm",
        "outputId": "1dbcdef0-7e65-4089-efcf-5ae0598c15eb"
      },
      "source": [
        "fig, ax = plt.subplots(figsize=(12,8))\n",
        "ax.bar(df_group.index, df_group['SepalLengthCm'], label='Sepal Length')\n",
        "ax.bar(df_group.index, df_group['SepalWidthCm'], bottom=df_group['SepalLengthCm'], label='Sepal Width')\n",
        "ax.bar(df_group.index, df_group['PetalLengthCm'], bottom=df_group['SepalLengthCm']+df_group['SepalWidthCm'], label='Petal Length')\n",
        "ax.bar(df_group.index, df_group['PetalWidthCm'], bottom=df_group['SepalLengthCm']+df_group['SepalWidthCm']+df_group['PetalLengthCm'], label='Petal Width')\n",
        "plt.legend()\n",
        "plt.show()"
      ],
      "execution_count": 9,
      "outputs": [
        {
          "output_type": "display_data",
          "data": {
            "image/png": "[encoded data removed]",
            "text/plain": [
              "<Figure size 864x576 with 1 Axes>"
            ]
          },
          "metadata": {
            "needs_background": "light"
          }
        }
      ]
    },
    {
      "cell_type": "markdown",
      "metadata": {
        "id": "lXoDQJGMzYY5"
      },
      "source": [
        "## Statistical Plot\n",
        "\n",
        "Statistical plot digunakan untuk melihat grafik statistik data. Kita akan coba melakukan statistical plot data Iris menggunakan bar chart dengan melakukan plot central tendency dan sebaran data dalam unit standar deviasi."
      ]
    },
    {
      "cell_type": "code",
      "metadata": {
        "colab": {
          "base_uri": "https://localhost:8080/"
        },
        "id": "7FX_aGiJzTSW",
        "outputId": "fbfc78ef-8c5a-4c0f-b51c-ad2362d9da2d"
      },
      "source": [
        "df_mean = df.mean()\n",
        "df_mean"
      ],
      "execution_count": 11,
      "outputs": [
        {
          "output_type": "execute_result",
          "data": {
            "text/plain": [
              "SepalLengthCm    5.843333\n",
              "SepalWidthCm     3.054000\n",
              "PetalLengthCm    3.758667\n",
              "PetalWidthCm     1.198667\n",
              "dtype: float64"
            ]
          },
          "metadata": {},
          "execution_count": 11
        }
      ]
    },
    {
      "cell_type": "code",
      "metadata": {
        "colab": {
          "base_uri": "https://localhost:8080/",
          "height": 485
        },
        "id": "b6egzHZjzk4J",
        "outputId": "d772ccd9-6abf-4325-9ec5-707d157a6f16"
      },
      "source": [
        "fig, ax = plt.subplots(figsize=(12,8))\n",
        "\n",
        "for i in range(len(df_mean)):\n",
        "    ax.bar(df_mean.index[i], df_mean.values[i], yerr=df.std()[i])\n",
        "\n",
        "plt.show()"
      ],
      "execution_count": 13,
      "outputs": [
        {
          "output_type": "display_data",
          "data": {
            "image/png": "[encoded data removed]",
            "text/plain": [
              "<Figure size 864x576 with 1 Axes>"
            ]
          },
          "metadata": {
            "needs_background": "light"
          }
        }
      ]
    },
    {
      "cell_type": "markdown",
      "metadata": {
        "id": "Jh7LNfkgzxrL"
      },
      "source": [
        "Gambar diatas menunjukkan bahwa bar chart merepresentasikan central tendency berupa nilai mean dari data Iris sedangkan garis hitam menunjukkan standar deviasi dari data tersebut. Petal Length memiliki sebaran data yang paling lebar sedangkan Sepal Width memiliki sebaran data yang paling kecil, artinya distribusi Sepal Width terpusat d satu titik tidak begitu menyebar."
      ]
    },
    {
      "cell_type": "markdown",
      "metadata": {
        "id": "jmVZHLmhzzfY"
      },
      "source": [
        "# Materi Video:\n",
        "*   [Scatter Plot](https://youtu.be/eU2eUohmjkI)\n",
        "*   [Bar Charts](https://youtu.be/yQ5htezlrkU)\n",
        "\n"
      ]
    },
    {
      "cell_type": "code",
      "metadata": {
        "id": "YFxK6rsN09RC"
      },
      "source": [
        ""
      ],
      "execution_count": null,
      "outputs": []
    }
  ]
}