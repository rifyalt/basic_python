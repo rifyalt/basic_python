{
  "nbformat": 4,
  "nbformat_minor": 0,
  "metadata": {
    "colab": {
      "name": "Hello Python.ipynb",
      "provenance": [],
      "toc_visible": true,
      "authorship_tag": "ABX9TyOIXpSew2EG+vyLneCWmv8Q",
      "include_colab_link": true
    },
    "kernelspec": {
      "name": "python3",
      "display_name": "Python 3"
    },
    "language_info": {
      "name": "python"
    }
  },
  "cells": [
    {
      "cell_type": "markdown",
      "metadata": {
        "id": "view-in-github",
        "colab_type": "text"
      },
      "source": [
        "<a href=\"https://colab.research.google.com/github/rifyalt/basicpython/blob/main/Hello_Python.ipynb\" target=\"_parent\"><img src=\"https://colab.research.google.com/assets/colab-badge.svg\" alt=\"Open In Colab\"/></a>"
      ]
    },
    {
      "cell_type": "markdown",
      "metadata": {
        "id": "21JcyNCXwhH7"
      },
      "source": [
        "# Hello Python"
      ]
    },
    {
      "cell_type": "markdown",
      "metadata": {
        "id": "7XeKFEoMABm6"
      },
      "source": [
        "Python adalah salah satu bahasa pemrograman yang sedang naik daun. Kepopulerannya terus meroket sejak tahun 2010. Python menjadi bahasa pemrograman yang mudah untuk dipelajari, termasuk bagi orang-orang yang baru belajar bahasa pemrograman."
      ]
    },
    {
      "cell_type": "markdown",
      "metadata": {
        "id": "MFJOog8bDHGS"
      },
      "source": [
        "### Kenapa Python?\n",
        "\n",
        "Kemudian apa yang membuat Python begitu populer? Beberapa diantaranya adalah:\n",
        "\n",
        "1.   Python adalah general multipurpose programming. Artinya, dengan bahasa pemrograman Python, kita hampir bisa membuat berbagai macam aplikasi, contohnya web, desktop, game, dan lain sebagainya.\n",
        "2.   Python mudah untuk dipelajari. Python didesain dengan penekanan agar mudah untuk dibaca. Kita bisa menuangkan konsep aplikasi kita kedalam bahasa python dengan baris yang relatif sedikit, sehingga kita bisa lebih cepat dan efektif dalam membangun suatu aplikasi.\n",
        "3.   Python open source. Artinya, python gratis dan setiap orang bisa berkontribusi untuk perkembangan python dan membagikannya ke orang lain."
      ]
    },
    {
      "cell_type": "markdown",
      "metadata": {
        "id": "mRj8q53xkhCq"
      },
      "source": [
        "# Variabel\n",
        "Variabel yang akan kita gunakan disini memiliki pengertian yang sama dengan variabel pada matematika. Pada ilmu matematika variabel dijelaskan pada kutipan di bawah ini.\n",
        "\n",
        "\n",
        "---\n",
        "\n",
        "\n",
        "A variable is a quantity that may change within the context of a mathematical problem or experiment. Typically, we use a single letter to represent a variable. The letters x, y, and z are common generic symbols used for variables."
      ]
    },
    {
      "cell_type": "markdown",
      "metadata": {
        "id": "ViA7MgLeC50y"
      },
      "source": [
        "Terdapat beberapa peraturan dalam menuliskan variabel, diantaranya:\n",
        "\n",
        "1. Nama variabel hanya boleh diawali oleh huruf atau underscore.\n",
        "2. Nama variabel tidak boleh diawali oleh angka.\n",
        "3. Nama variabel hanya bisa terdiri dari karakter alpha-numeric dan underscore (A-z, 0-9, and _ )\n",
        "4. Nama variabel bersifat case sensitive.\n",
        "5. Nama variabel tidak boleh menggunakan kata kunci yang sudah ada dalam python seperti if, while, for, dsb.\n",
        "\n",
        "Beberapa contoh penulisan variabel:\n",
        "\n",
        "* **kota -> benar**\n",
        "* kota -> salah\n",
        "* **kotaBandung -> benar**\n",
        "* kota bandung -> salah\n",
        "* **kota_bandung -> benar**\n",
        "* kota;bandung -> salah\n",
        "* **list_data -> benar**\n",
        "* list -> salah\n",
        "\n",
        "\n",
        "\n",
        "\n",
        "\n"
      ]
    },
    {
      "cell_type": "markdown",
      "metadata": {
        "id": "sZfDggsAEf9Z"
      },
      "source": [
        "### Membuat Variabel\n",
        "\n",
        "Kita dapat membuat variabel dengan berbagai cara, dengan inisiasi satu-satu, inisiasi banyak, ataupun inisiasi bernilai sama."
      ]
    },
    {
      "cell_type": "code",
      "metadata": {
        "colab": {
          "base_uri": "https://localhost:8080/"
        },
        "id": "Jfq34phaE0GB",
        "outputId": "d720d0e7-e1db-45b7-c8fb-10d8dbb27c5a"
      },
      "source": [
        "# Inisiasi Satu-Satu\n",
        "a = 1\n",
        "b = 2\n",
        "c = 3\n",
        "\n",
        "# Inisiasi Banyak\n",
        "d, e, f = 4, 5, 6\n",
        "\n",
        "# Inisiasi Bernilai Sama\n",
        "g = h = i = 7\n",
        "\n",
        "# Untuk Melihat hasil dari inisiasi variabel di atas kita dapat menggunakan fungsi print(). \n",
        "# Fungsi print() digunakan untuk menampilkan apapun yang kita masukkan ke dalam fungsi tersebut.\n",
        "print('a:', a)\n",
        "print('b:', b)\n",
        "print('c:', c)\n",
        "print('d:', d)\n",
        "print('e:', e)\n",
        "print('f:', f)\n",
        "print('g:', g)\n",
        "print('h:', h)\n",
        "print('i:', i)"
      ],
      "execution_count": null,
      "outputs": [
        {
          "output_type": "stream",
          "name": "stdout",
          "text": [
            "a: 1\n",
            "b: 2\n",
            "c: 3\n",
            "d: 4\n",
            "e: 5\n",
            "f: 6\n",
            "g: 7\n",
            "h: 7\n",
            "i: 7\n"
          ]
        }
      ]
    },
    {
      "cell_type": "markdown",
      "metadata": {
        "id": "1RvnDrJzE_b4"
      },
      "source": [
        "### Menghapus Variabel\n",
        "\n",
        "Untuk menghapus variabel kita dapat memanfaatkan fungsi del()\n",
        "\n",
        "del(i)"
      ]
    },
    {
      "cell_type": "markdown",
      "metadata": {
        "id": "BZ59TWSUANcY"
      },
      "source": [
        "# Tipe Data\n",
        "\n",
        "Tipe Data merupakan klasifikasi data yang memberi tahu interpreter bagaimana programmer akan menggunakan datanya. Tipe data dalam Python seperti berikut:"
      ]
    },
    {
      "cell_type": "markdown",
      "metadata": {
        "id": "AioLUbrkAexi"
      },
      "source": [
        "![tipe-data.png](data:image/png;base64,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)"
      ]
    },
    {
      "cell_type": "code",
      "metadata": {
        "colab": {
          "base_uri": "https://localhost:8080/"
        },
        "id": "pzmh5E66wKKT",
        "outputId": "fd563182-eb61-4c35-e748-dd2de43dab90"
      },
      "source": [
        "# integer, hastag is a comment. tidak akan dieksekusi oleh Python. Integer merupakan bilangan bulat.\n",
        "# Jika kita menuliskan perintah seperti berikut:\n",
        "\n",
        "x = 2\n",
        "\n",
        "print(x)\n",
        "\n",
        "type(x)"
      ],
      "execution_count": null,
      "outputs": [
        {
          "output_type": "stream",
          "name": "stdout",
          "text": [
            "2\n"
          ]
        },
        {
          "output_type": "execute_result",
          "data": {
            "text/plain": [
              "int"
            ]
          },
          "metadata": {},
          "execution_count": 2
        }
      ]
    },
    {
      "cell_type": "code",
      "metadata": {
        "colab": {
          "base_uri": "https://localhost:8080/"
        },
        "id": "qLsP_O80wfKX",
        "outputId": "8d1fe351-5ba4-44c0-d33b-f6999b496501"
      },
      "source": [
        "# float,  merupakan bilangan decimal. jika dalam bahasa pemrograman lain dikenal dengan tipe data double.\n",
        "\n",
        "# Jika kita menuliskan perintah seperti berikut:\n",
        "\n",
        "x = 2.5\n",
        "\n",
        "print(x)\n",
        "\n",
        "type(x)"
      ],
      "execution_count": null,
      "outputs": [
        {
          "output_type": "stream",
          "name": "stdout",
          "text": [
            "2.5\n"
          ]
        },
        {
          "output_type": "execute_result",
          "data": {
            "text/plain": [
              "float"
            ]
          },
          "metadata": {},
          "execution_count": 3
        }
      ]
    },
    {
      "cell_type": "code",
      "metadata": {
        "colab": {
          "base_uri": "https://localhost:8080/"
        },
        "id": "pcCJ-32vBV_o",
        "outputId": "5e0eb0f2-02f2-4619-bd05-f6be5a387c13"
      },
      "source": [
        "# string, pembuatan tipe data string ini dengan meletakkan karakter didalam tanda petik. \n",
        "# single petik (' ') maupun double petik (\" \") bermakna sama di Python. \n",
        "\n",
        "a = 'hello'\n",
        "\n",
        "b = \"hello 2\"\n",
        "\n",
        "print(a)\n",
        "\n",
        "print(b)\n",
        "\n",
        "type(a)\n",
        "\n",
        "type(b)"
      ],
      "execution_count": null,
      "outputs": [
        {
          "output_type": "stream",
          "name": "stdout",
          "text": [
            "hello\n",
            "hello 2\n"
          ]
        },
        {
          "output_type": "execute_result",
          "data": {
            "text/plain": [
              "str"
            ]
          },
          "metadata": {},
          "execution_count": 4
        }
      ]
    },
    {
      "cell_type": "markdown",
      "metadata": {
        "id": "lfHkoK3tiBc7"
      },
      "source": [
        "# Metode Tipe Data String\n",
        "\n",
        "*   Ada beberapa Metode yang dimiliki oleh tipe data string. \n",
        "*   Metode pada tipe data adalah hal yang bisa kita lakukan terhadap tipe data tersebut.\n",
        "\n",
        "\n",
        "\n",
        "\n",
        "\n",
        "\n",
        "\n"
      ]
    },
    {
      "cell_type": "markdown",
      "metadata": {
        "id": "-gtSDYTbrBLw"
      },
      "source": [
        "Misalnya adalah pada saat kita pesawat kita dapat melakukan manuver vertikal dimana hal tersebut tidak dapat dilakukan pada mobil. Metode-metode yang dimiliki oleh tipe data string adalah:\n",
        "\n",
        "*   [capitalize()](https://www.w3schools.com/python/ref_string_capitalize.asp) Converts the first character to upper case\n",
        "*   [casefold()](https://www.w3schools.com/python/ref_string_casefold.asp) Converts string into lower case\n",
        "*   [center()](https://www.w3schools.com/python/ref_string_center.asp) \tReturns a centered string\n",
        "*   [count()](https://www.w3schools.com/python/ref_string_count.asp) Returns the number of times a specified value occurs in a string\n",
        "*   [encode()](https://www.w3schools.com/python/ref_string_encode.asp) Returns an encoded version of the string\n",
        "*   [endswith()](https://www.w3schools.com/python/ref_string_endswith.asp) Returns true if the string ends with the specified value\n",
        "*   [expandtabs()](https://www.w3schools.com/python/ref_string_expandtabs.asp) Sets the tab size of the string\n",
        "*   [find()](https://www.w3schools.com/python/ref_string_find.asp) Searches the string for a specified value and returns the position of where it was found\n",
        "*   [format()](https://www.w3schools.com/python/ref_string_format.asp) Formats specified values in a string\n",
        "*   [format_map()](https:#) Formats specified values in a string\n",
        "*   [index()](https://www.w3schools.com/python/ref_string_index.asp) Searches the string for a specified value and returns the position of where it was found\n",
        "*   [isalnum()](https://www.w3schools.com/python/ref_string_isalnum.asp) Returns True if all characters in the string are alphanumeric\n",
        "*   [isalpha()](https://www.w3schools.com/python/ref_string_isalpha.asp) Returns True if all characters in the string are in the alphabet\n",
        "*   [isdecimal()](https://www.w3schools.com/python/ref_string_isdecimal.asp) Returns True if all characters in the string are decimals\n",
        "*   [isdigit()](https://www.w3schools.com/python/ref_string_isdigit.asp) Returns True if all characters in the string are digits\n",
        "*   [isidentifier()](https://www.w3schools.com/python/ref_string_isidentifier.asp) Returns True if the string is an identifier\n",
        "*   [islower()](https://www.w3schools.com/python/ref_string_islower.asp) Returns True if all characters in the string are lower case\n",
        "*   [isnumeric()](https://www.w3schools.com/python/ref_string_isnumeric.asp) Returns True if all characters in the string are numeric\n",
        "*   [isprintable()](https://www.w3schools.com/python/ref_string_isprintable.asp) Returns True if all characters in the string are printable\n",
        "*   [isspace()](https://www.w3schools.com/python/ref_string_isspace.asp) Returns True if all characters in the string are whitespaces\n",
        "*   [istitle()](https://www.w3schools.com/python/ref_string_istitle.asp) Returns True if the string follows the rules of a title\n",
        "*   [isupper()](https://www.w3schools.com/python/ref_string_isupper.asp) Returns True if all characters in the string are upper case\n",
        "*   [join()](https://www.w3schools.com/python/ref_string_join.asp) Joins the elements of an iterable to the end of the string\n",
        "*   [ljust()](https://www.w3schools.com/python/ref_string_ljust.asp) Returns a left justified version of the string\n",
        "*   [lower()](https://www.w3schools.com/python/ref_string_lower.asp) Converts a string into lower case\n",
        "*   [lstrip()](https://www.w3schools.com/python/ref_string_lstrip.asp) Returns a left trim version of the string\n",
        "*   [maketrans()](https://www.w3schools.com/python/ref_string_maketrans.asp) Returns a translation table to be used in translations\n",
        "*   [partition()](https://www.w3schools.com/python/ref_string_partition.asp) Returns a tuple where the string is parted into three parts\n",
        "*   [replace()](https://www.w3schools.com/python/ref_string_replace.asp) Returns a string where a specified value is replaced with a specified value\n",
        "*   [rfind()](https://www.w3schools.com/python/ref_string_rfind.asp) Searches the string for a specified value and returns the last position of where it was found\n",
        "*   [rindex()](https://www.w3schools.com/python/ref_string_rindex.asp) Searches the string for a specified value and returns the last position of where it was found\n",
        "*   [rjust()](https://www.w3schools.com/python/ref_string_rjust.asp) Returns a right justified version of the string\n",
        "*   [rpartition()](https://www.w3schools.com/python/ref_string_rpartition.asp) Returns a tuple where the string is parted into three parts\n",
        "*   [rsplit()](https://www.w3schools.com/python/ref_string_rsplit.asp) Splits the string at the specified separator, and returns a list\n",
        "*   [rstrip()](https://www.w3schools.com/python/ref_string_rstrip.asp) Returns a right trim version of the string\n",
        "*   [split()](https://www.w3schools.com/python/ref_string_split.asp) Splits the string at the specified separator, and returns a list\n",
        "*   [splitlines()](https://www.w3schools.com/python/ref_string_splitlines.asp) Splits the string at line breaks and returns a list\n",
        "*   [startswith()](https://www.w3schools.com/python/ref_string_startswith.asp) Returns true if the string starts with the specified value\n",
        "*   [strip()](https://www.w3schools.com/python/ref_string_strip.asp) Returns a trimmed version of the string\n",
        "*   [swapcase()](https://www.w3schools.com/python/ref_string_swapcase.asp) Swaps cases, lower case becomes upper case and vice versa\n",
        "*   [title()](https://www.w3schools.com/python/ref_string_title.asp) Converts the first character of each word to upper case\n",
        "*   [translate()](https://www.w3schools.com/python/ref_string_translate.asp) Returns a translated string\n",
        "*   [upper()](https://www.w3schools.com/python/ref_string_upper.asp) Converts a string into upper case\n",
        "*   [zfill()](https://www.w3schools.com/python/ref_string_zfill.asp) Fills the string with a specified number of 0 values at the beginning"
      ]
    },
    {
      "cell_type": "markdown",
      "metadata": {
        "id": "bUajVnDNo0Qy"
      },
      "source": [
        "# String method\n"
      ]
    },
    {
      "cell_type": "code",
      "metadata": {
        "colab": {
          "base_uri": "https://localhost:8080/"
        },
        "id": "fkg_fRTTBeTJ",
        "outputId": "07d008da-2be8-463d-dd13-6ff6aa66f118"
      },
      "source": [
        "\n",
        "# Pada kesempatan kali ini kita akan mencoba untuk menggunakan salah satu method untuk membesarkan huruf pertama pada suatu string. \n",
        "# Jika melihat tabel diatas maka method yang akan kita gunakan adalah capitalize().\n",
        "\n",
        "# pertama kita siapkan variabel yang berisi data string kita\n",
        "\n",
        "data_string = 'mari makan bersama'\n",
        "\n",
        "# lalu sekarang kita aplikasikan string method capitalize()\n",
        "\n",
        "new_data = data_string.capitalize() # hanya huruf depan pada kalimat pertama yang huruf besar/kapital\n",
        "\n",
        "new_data_0 = data_string.upper() # huruf besar semua\n",
        "\n",
        "new_data_1 = data_string.lower() # huruf kecil semua\n",
        "\n",
        "new_data_2 = data_string.title() # huruf depan pada setiap kata berubah jadi huruf besar/kapital\n",
        "\n",
        "# lalu kita lihat hasilnya,\n",
        "\n",
        "print(new_data)\n",
        "print(new_data_0)\n",
        "print(new_data_1)\n",
        "print(new_data_2)"
      ],
      "execution_count": null,
      "outputs": [
        {
          "output_type": "stream",
          "name": "stdout",
          "text": [
            "Mari makan bersama\n",
            "MARI MAKAN BERSAMA\n",
            "mari makan bersama\n",
            "Mari Makan Bersama\n"
          ]
        }
      ]
    },
    {
      "cell_type": "markdown",
      "metadata": {
        "id": "67hziN5Ist_G"
      },
      "source": [
        "### Boolean/logical"
      ]
    },
    {
      "cell_type": "code",
      "metadata": {
        "colab": {
          "base_uri": "https://localhost:8080/"
        },
        "id": "5qdMtXI0QHOB",
        "outputId": "2188d278-778a-4f4b-e6c4-9d99e5955391"
      },
      "source": [
        "#boolean/logical, boolean merupakan tipe data yang bernilai True atau False. \n",
        "\n",
        "c = True\n",
        "\n",
        "d = False\n",
        "\n",
        "print(c)\n",
        "type(c)"
      ],
      "execution_count": null,
      "outputs": [
        {
          "output_type": "stream",
          "name": "stdout",
          "text": [
            "True\n"
          ]
        },
        {
          "output_type": "execute_result",
          "data": {
            "text/plain": [
              "bool"
            ]
          },
          "metadata": {},
          "execution_count": 21
        }
      ]
    },
    {
      "cell_type": "markdown",
      "metadata": {
        "id": "_yxdlH53sdcn"
      },
      "source": [
        "### Printing"
      ]
    },
    {
      "cell_type": "code",
      "metadata": {
        "colab": {
          "base_uri": "https://localhost:8080/"
        },
        "id": "moGkqRlfSVtq",
        "outputId": "d48e7081-f672-49ad-cbb8-a3eb216cbfad"
      },
      "source": [
        "#Printing\n",
        "\n",
        "# Dalam Python, ada beberapa cara yang bisa digunakan untuk mencetak sebuah string, sebagai contoh :\n",
        "\n",
        "greeting = 'Hello'\n",
        "name = 'Afrida'\n",
        "\n",
        "message = greeting + \" \" + name\n",
        "\n",
        "print(message)\n",
        "\n",
        "# ketika dieksekusi, maka akan menghasilkan output:"
      ],
      "execution_count": null,
      "outputs": [
        {
          "output_type": "stream",
          "name": "stdout",
          "text": [
            "Hello Afrida\n"
          ]
        }
      ]
    },
    {
      "cell_type": "code",
      "metadata": {
        "colab": {
          "base_uri": "https://localhost:8080/"
        },
        "id": "UBxWd29jS4Ab",
        "outputId": "075085e3-2f62-42f3-f4c9-93e1dc95dedf"
      },
      "source": [
        "# Contoh selanjutnya:\n",
        "\n",
        "name = 'Ayu'\n",
        "\n",
        "age = 17 \n",
        "print ('Hello i am ' + name + ' i am ' + str(age) + ' years old') \n",
        "print('Hello i am ', name, ' i am ' ,age, ' years old')"
      ],
      "execution_count": null,
      "outputs": [
        {
          "output_type": "stream",
          "name": "stdout",
          "text": [
            "Hello i am Ayu i am 17 years old\n",
            "Hello i am  Ayu  i am  17  years old\n"
          ]
        }
      ]
    },
    {
      "cell_type": "code",
      "metadata": {
        "colab": {
          "base_uri": "https://localhost:8080/"
        },
        "id": "q39fB78bTDDv",
        "outputId": "5557db78-1e91-4577-f9d5-0b150cdd1cd3"
      },
      "source": [
        "# Selain cara diatas, kita bisa menggunakan string formatting seperti berikut:\n",
        "\n",
        "# Old Style\n",
        "\n",
        "print('Hello i am %s i am %d years old' % (name, age))\n",
        "\n",
        "# 'New Style' string formatting\n",
        "\n",
        "print('Hello i am {0} i am {1} years old'.format(name, age))\n",
        "\n",
        "# String interpolation\n",
        "\n",
        "print(f'Hello i am {name} i am {age} years old')"
      ],
      "execution_count": null,
      "outputs": [
        {
          "output_type": "stream",
          "name": "stdout",
          "text": [
            "Hello i am Ayu i am 17 years old\n",
            "Hello i am Ayu i am 17 years old\n",
            "Hello i am Ayu i am 17 years old\n"
          ]
        }
      ]
    },
    {
      "cell_type": "markdown",
      "metadata": {
        "id": "9pyXzwvwskZu"
      },
      "source": [
        "### Aritmatika"
      ]
    },
    {
      "cell_type": "code",
      "metadata": {
        "colab": {
          "base_uri": "https://localhost:8080/"
        },
        "id": "sJT7xwA6UXbe",
        "outputId": "c2b69278-ebc2-44c0-d13a-0d713f79d81d"
      },
      "source": [
        "# Aritmatika\n",
        "\n",
        "A = 12\n",
        "\n",
        "B = 2\n",
        "\n",
        "C = A + B\n",
        "\n",
        "D = A / B\n",
        "\n",
        "print(C)\n",
        "\n",
        "print(D)\n",
        "\n",
        "\n",
        "# ketika dieksekusi maka akan menghasilkan output seperti berikut:"
      ],
      "execution_count": null,
      "outputs": [
        {
          "output_type": "stream",
          "name": "stdout",
          "text": [
            "14\n",
            "6.0\n"
          ]
        }
      ]
    },
    {
      "cell_type": "code",
      "metadata": {
        "colab": {
          "base_uri": "https://localhost:8080/"
        },
        "id": "ni7yzwsCUehO",
        "outputId": "8fed9938-3836-4e00-cc3f-c453f6a7524c"
      },
      "source": [
        "type(C)"
      ],
      "execution_count": null,
      "outputs": [
        {
          "output_type": "execute_result",
          "data": {
            "text/plain": [
              "int"
            ]
          },
          "metadata": {},
          "execution_count": 31
        }
      ]
    },
    {
      "cell_type": "code",
      "metadata": {
        "colab": {
          "base_uri": "https://localhost:8080/"
        },
        "id": "xqJZ4F3fU3mq",
        "outputId": "74d9a431-43f2-4764-f302-43fb5efbf1e6"
      },
      "source": [
        "type(D)"
      ],
      "execution_count": null,
      "outputs": [
        {
          "output_type": "execute_result",
          "data": {
            "text/plain": [
              "float"
            ]
          },
          "metadata": {},
          "execution_count": 32
        }
      ]
    },
    {
      "cell_type": "markdown",
      "metadata": {
        "id": "_j7FvHMRVCcS"
      },
      "source": [
        "Jika diperhatikan, mengapa output tipe data hasil pembagian adalah float sedangkan variabel numerik yang kita input bernilai integer. \n",
        "\n",
        "Pembagian di dalam Python secara default akan menghasilkan tipe data float, lalu bagaimana cara kita untuk mengubah tipe data tersebut menjadi integer? \n",
        "\n",
        "cukup tambahkan tipe data int di awal variabel."
      ]
    },
    {
      "cell_type": "code",
      "metadata": {
        "colab": {
          "base_uri": "https://localhost:8080/"
        },
        "id": "kDjQPZcbVC5u",
        "outputId": "0f53ab9b-c44e-43e0-c5bc-6f6b9d19ebb4"
      },
      "source": [
        "D = int(A / B)\n",
        "\n",
        "print(D)\n",
        "\n",
        "type(D)"
      ],
      "execution_count": null,
      "outputs": [
        {
          "output_type": "stream",
          "name": "stdout",
          "text": [
            "6\n"
          ]
        },
        {
          "output_type": "execute_result",
          "data": {
            "text/plain": [
              "int"
            ]
          },
          "metadata": {},
          "execution_count": 33
        }
      ]
    },
    {
      "cell_type": "code",
      "metadata": {
        "colab": {
          "base_uri": "https://localhost:8080/"
        },
        "id": "WemMSaIRVNdp",
        "outputId": "d6453209-f4ac-4a46-a323-c261c7f1a321"
      },
      "source": [
        "# kita juga bisa mengubah tipe data variabel numerik menjadi string, sebagai contoh:\n",
        "\n",
        "number = 100000\n",
        "number = str(number)\n",
        "print(number)\n",
        "type(number)"
      ],
      "execution_count": null,
      "outputs": [
        {
          "output_type": "stream",
          "name": "stdout",
          "text": [
            "100000\n"
          ]
        },
        {
          "output_type": "execute_result",
          "data": {
            "text/plain": [
              "str"
            ]
          },
          "metadata": {},
          "execution_count": 34
        }
      ]
    },
    {
      "cell_type": "markdown",
      "metadata": {
        "id": "_bt8u9t3h1Rk"
      },
      "source": [
        "# **Referensi:**\n",
        "Untuk memahami lebih lanjut, silahkan kunjungi external resource yang telah kami sediakan di link di bawah ini:\n",
        "\n",
        "* [Pengenalan Python](https://www.youtube.com/watch?v=SsUF-7X3ehM)\n",
        "* [Python String](https://www.youtube.com/watch?v=xlWN2fTyQFU)\n",
        "* [Number dan Operasi Matematika](https://www.youtube.com/watch?v=rqt-T1kl4PU)"
      ]
    },
    {
      "cell_type": "code",
      "metadata": {
        "id": "mVdAIiJAY-49"
      },
      "source": [
        ""
      ],
      "execution_count": null,
      "outputs": []
    }
  ]
}